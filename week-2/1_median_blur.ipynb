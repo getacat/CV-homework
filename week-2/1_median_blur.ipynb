{
 "cells": [
  {
   "cell_type": "code",
   "execution_count": 2,
   "metadata": {},
   "outputs": [],
   "source": [
    "import cv2\n",
    "import numpy as np"
   ]
  },
  {
   "cell_type": "markdown",
   "metadata": {},
   "source": [
    "# 完成一个中值滤波"
   ]
  },
  {
   "cell_type": "code",
   "execution_count": null,
   "metadata": {},
   "outputs": [],
   "source": [
    "    y, x = np.shape(img)\n",
    "    n, m = np.shape(kernel)\n",
    "    pad_y, pad_x = (n-1)//2, (m-1)//2\n",
    "\n",
    "    if padding_way == 'REPLICA':\n",
    "        img = np.pad(img, ((pad_y, pad_y), (pad_x, pad_x)), 'edge')\n",
    "    elif padding_way == 'ZERO':\n",
    "        img = np.pad(img, ((pad_y, pad_y), (pad_x, pad_x)), 'constant')\n",
    "    else:\n",
    "        return 'error:no such padding_way'\n",
    "    \n",
    "    for i in range(y-1):\n",
    "        for j in range(x-1):\n",
    "            tmp = img[i:i+n, j:j+m]\n",
    "            mult = np.multiply(tmp, kernel)\n",
    "            pos = getMedian(mult)\n",
    "            img[i, j] = tmp[pos//m, pos%m]      \n",
    "    return img"
   ]
  },
  {
   "cell_type": "code",
   "execution_count": 4,
   "metadata": {},
   "outputs": [],
   "source": [
    "def getMedian(arr):\n",
    "    a = arr.flatten()\n",
    "    indies = a.argsort()\n",
    "    l = len(a) - 1\n",
    "    return indies[l//2]"
   ]
  },
  {
   "cell_type": "code",
   "execution_count": 6,
   "metadata": {},
   "outputs": [],
   "source": [
    "kernel = np.array([[1,1,1],\n",
    "                  [1,2,1],\n",
    "                  [1,1,1]])\n",
    "img = cv2.imread('alita.jpeg', 0)\n",
    "img_blur = medianBlur(img, kernel, 'ZERO')\n",
    "cv2.imwrite('gray.jpg',img)\n",
    "cv2.imwrite('result.jpg',img_blur)\n",
    "# print(img_blur)\n",
    "cv2.imshow('blur', img_blur)\n",
    "cv2.imshow('img', img)\n",
    "key = cv2.waitKey()\n",
    "if key==27:\n",
    "    cv2.destroyAllWindows()"
   ]
  },
  {
   "cell_type": "markdown",
   "metadata": {},
   "source": [
    "# 结果\n",
    "导入的图片\n",
    "# ![原图片](gray.jpg)\n",
    "# \n",
    "中值滤波后\n",
    "# ![原图片](result.jpg)\n"
   ]
  },
  {
   "cell_type": "code",
   "execution_count": null,
   "metadata": {},
   "outputs": [],
   "source": []
  }
 ],
 "metadata": {
  "kernelspec": {
   "display_name": "opencv3",
   "language": "python",
   "name": "opencv3"
  },
  "language_info": {
   "codemirror_mode": {
    "name": "ipython",
    "version": 3
   },
   "file_extension": ".py",
   "mimetype": "text/x-python",
   "name": "python",
   "nbconvert_exporter": "python",
   "pygments_lexer": "ipython3",
   "version": "3.6.8"
  }
 },
 "nbformat": 4,
 "nbformat_minor": 2
}
